{
 "cells": [
  {
   "cell_type": "markdown",
   "id": "0320fbf6",
   "metadata": {},
   "source": [
    "# A program to prompt the user for hours and rate per hour to compute gross pay."
   ]
  },
  {
   "cell_type": "code",
   "execution_count": 3,
   "id": "3675e80e",
   "metadata": {},
   "outputs": [
    {
     "name": "stdout",
     "output_type": "stream",
     "text": [
      "Enter hours = 35\n",
      "Enter rate per hour = 2.75\n",
      "Gross Pay =  96.25\n"
     ]
    }
   ],
   "source": [
    "hours = input('Enter hours = ')\n",
    "rate = input('Enter rate per hour = ')\n",
    "pay = int(hours) * float(rate)\n",
    "print('Gross Pay = ', pay)"
   ]
  },
  {
   "cell_type": "code",
   "execution_count": null,
   "id": "530d93d0",
   "metadata": {},
   "outputs": [],
   "source": []
  }
 ],
 "metadata": {
  "kernelspec": {
   "display_name": "Python 3 (ipykernel)",
   "language": "python",
   "name": "python3"
  },
  "language_info": {
   "codemirror_mode": {
    "name": "ipython",
    "version": 3
   },
   "file_extension": ".py",
   "mimetype": "text/x-python",
   "name": "python",
   "nbconvert_exporter": "python",
   "pygments_lexer": "ipython3",
   "version": "3.9.13"
  }
 },
 "nbformat": 4,
 "nbformat_minor": 5
}
