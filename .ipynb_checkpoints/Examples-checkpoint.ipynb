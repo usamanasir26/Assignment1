{
 "cells": [
  {
   "cell_type": "code",
   "execution_count": 1,
   "id": "ce082c1c",
   "metadata": {},
   "outputs": [
    {
     "name": "stdout",
     "output_type": "stream",
     "text": [
      "123\n"
     ]
    }
   ],
   "source": [
    "print(123)"
   ]
  },
  {
   "cell_type": "code",
   "execution_count": 2,
   "id": "9a58f5cf",
   "metadata": {},
   "outputs": [
    {
     "name": "stdout",
     "output_type": "stream",
     "text": [
      "98.6\n"
     ]
    }
   ],
   "source": [
    "print(98.6)"
   ]
  },
  {
   "cell_type": "code",
   "execution_count": 3,
   "id": "9ccfd7ee",
   "metadata": {},
   "outputs": [
    {
     "name": "stdout",
     "output_type": "stream",
     "text": [
      "Hello World\n"
     ]
    }
   ],
   "source": [
    "print('Hello World')"
   ]
  },
  {
   "cell_type": "code",
   "execution_count": 4,
   "id": "b5fd67fc",
   "metadata": {},
   "outputs": [
    {
     "name": "stdout",
     "output_type": "stream",
     "text": [
      "437.5\n"
     ]
    }
   ],
   "source": [
    "hours = 35.0\n",
    "rate = 12.50\n",
    "pay = hours * rate\n",
    "print(pay)"
   ]
  },
  {
   "cell_type": "code",
   "execution_count": 5,
   "id": "998460d8",
   "metadata": {},
   "outputs": [
    {
     "name": "stdout",
     "output_type": "stream",
     "text": [
      "4\n"
     ]
    }
   ],
   "source": [
    "x = 2\n",
    "x = x + 2\n",
    "print(x)"
   ]
  },
  {
   "cell_type": "code",
   "execution_count": 9,
   "id": "7ad17096",
   "metadata": {},
   "outputs": [
    {
     "name": "stdout",
     "output_type": "stream",
     "text": [
      "0.9359999999999999\n"
     ]
    }
   ],
   "source": [
    "x = 0.6\n",
    "x = 3.9 * x * (1 - x)\n",
    "print(x)"
   ]
  },
  {
   "cell_type": "code",
   "execution_count": 10,
   "id": "e7be4501",
   "metadata": {},
   "outputs": [
    {
     "name": "stdout",
     "output_type": "stream",
     "text": [
      "4\n"
     ]
    }
   ],
   "source": [
    "xx = 2\n",
    "xx = xx + 2\n",
    "print(xx)"
   ]
  },
  {
   "cell_type": "code",
   "execution_count": 11,
   "id": "b5c003ae",
   "metadata": {},
   "outputs": [
    {
     "name": "stdout",
     "output_type": "stream",
     "text": [
      "5280\n"
     ]
    }
   ],
   "source": [
    "yy = 440 * 12\n",
    "print(yy)"
   ]
  },
  {
   "cell_type": "code",
   "execution_count": 12,
   "id": "abb85f21",
   "metadata": {},
   "outputs": [
    {
     "name": "stdout",
     "output_type": "stream",
     "text": [
      "5.28\n"
     ]
    }
   ],
   "source": [
    "zz = yy / 1000\n",
    "print(zz)"
   ]
  },
  {
   "cell_type": "code",
   "execution_count": 13,
   "id": "abd5c7eb",
   "metadata": {},
   "outputs": [
    {
     "name": "stdout",
     "output_type": "stream",
     "text": [
      "3\n"
     ]
    }
   ],
   "source": [
    "jj = 23\n",
    "kk = jj % 5\n",
    "print(kk)"
   ]
  },
  {
   "cell_type": "code",
   "execution_count": 14,
   "id": "e936b371",
   "metadata": {},
   "outputs": [
    {
     "name": "stdout",
     "output_type": "stream",
     "text": [
      "64\n"
     ]
    }
   ],
   "source": [
    "print(4 ** 3)"
   ]
  },
  {
   "cell_type": "code",
   "execution_count": 16,
   "id": "0ed3f4c8",
   "metadata": {},
   "outputs": [
    {
     "name": "stdout",
     "output_type": "stream",
     "text": [
      "11.0\n"
     ]
    }
   ],
   "source": [
    "x = 1 + 2 ** 3 / 4 * 5\n",
    "print(x)"
   ]
  },
  {
   "cell_type": "code",
   "execution_count": 17,
   "id": "4dffe748",
   "metadata": {},
   "outputs": [
    {
     "name": "stdout",
     "output_type": "stream",
     "text": [
      "5\n"
     ]
    }
   ],
   "source": [
    "ddd = 1 + 4\n",
    "print(ddd)"
   ]
  },
  {
   "cell_type": "code",
   "execution_count": 18,
   "id": "5ff6235e",
   "metadata": {},
   "outputs": [
    {
     "name": "stdout",
     "output_type": "stream",
     "text": [
      "hello there\n"
     ]
    }
   ],
   "source": [
    "eee = 'hello ' + 'there'\n",
    "print(eee)"
   ]
  },
  {
   "cell_type": "code",
   "execution_count": 19,
   "id": "601ab187",
   "metadata": {},
   "outputs": [
    {
     "ename": "TypeError",
     "evalue": "can only concatenate str (not \"int\") to str",
     "output_type": "error",
     "traceback": [
      "\u001b[1;31m---------------------------------------------------------------------------\u001b[0m",
      "\u001b[1;31mTypeError\u001b[0m                                 Traceback (most recent call last)",
      "\u001b[1;32m~\\AppData\\Local\\Temp\\ipykernel_14272\\2143467637.py\u001b[0m in \u001b[0;36m<module>\u001b[1;34m\u001b[0m\n\u001b[0;32m      1\u001b[0m \u001b[0meee\u001b[0m \u001b[1;33m=\u001b[0m \u001b[1;34m'hello '\u001b[0m \u001b[1;33m+\u001b[0m \u001b[1;34m'there'\u001b[0m\u001b[1;33m\u001b[0m\u001b[1;33m\u001b[0m\u001b[0m\n\u001b[1;32m----> 2\u001b[1;33m \u001b[0meee\u001b[0m \u001b[1;33m=\u001b[0m \u001b[0meee\u001b[0m \u001b[1;33m+\u001b[0m \u001b[1;36m1\u001b[0m\u001b[1;33m\u001b[0m\u001b[1;33m\u001b[0m\u001b[0m\n\u001b[0m",
      "\u001b[1;31mTypeError\u001b[0m: can only concatenate str (not \"int\") to str"
     ]
    }
   ],
   "source": [
    "eee = 'hello ' + 'there'\n",
    "eee = eee + 1"
   ]
  },
  {
   "cell_type": "code",
   "execution_count": 20,
   "id": "8fe14b1e",
   "metadata": {},
   "outputs": [
    {
     "data": {
      "text/plain": [
       "str"
      ]
     },
     "execution_count": 20,
     "metadata": {},
     "output_type": "execute_result"
    }
   ],
   "source": [
    "type(eee)\n"
   ]
  },
  {
   "cell_type": "code",
   "execution_count": 21,
   "id": "8f66d03c",
   "metadata": {},
   "outputs": [
    {
     "data": {
      "text/plain": [
       "str"
      ]
     },
     "execution_count": 21,
     "metadata": {},
     "output_type": "execute_result"
    }
   ],
   "source": [
    "type('hello ')"
   ]
  },
  {
   "cell_type": "code",
   "execution_count": 22,
   "id": "86ba2924",
   "metadata": {},
   "outputs": [
    {
     "data": {
      "text/plain": [
       "int"
      ]
     },
     "execution_count": 22,
     "metadata": {},
     "output_type": "execute_result"
    }
   ],
   "source": [
    "type(1)"
   ]
  },
  {
   "cell_type": "code",
   "execution_count": 23,
   "id": "3c5bb0a0",
   "metadata": {},
   "outputs": [
    {
     "data": {
      "text/plain": [
       "float"
      ]
     },
     "execution_count": 23,
     "metadata": {},
     "output_type": "execute_result"
    }
   ],
   "source": [
    "temp = 98.6\n",
    "type(temp)"
   ]
  },
  {
   "cell_type": "code",
   "execution_count": 24,
   "id": "cbb81521",
   "metadata": {},
   "outputs": [
    {
     "name": "stdout",
     "output_type": "stream",
     "text": [
      "199.0\n"
     ]
    }
   ],
   "source": [
    "print(float(99) + 100)"
   ]
  },
  {
   "cell_type": "code",
   "execution_count": 25,
   "id": "4566523c",
   "metadata": {},
   "outputs": [
    {
     "data": {
      "text/plain": [
       "int"
      ]
     },
     "execution_count": 25,
     "metadata": {},
     "output_type": "execute_result"
    }
   ],
   "source": [
    "i = 42\n",
    "type(i)"
   ]
  },
  {
   "cell_type": "code",
   "execution_count": 27,
   "id": "ec7fc3d1",
   "metadata": {},
   "outputs": [
    {
     "data": {
      "text/plain": [
       "float"
      ]
     },
     "execution_count": 27,
     "metadata": {},
     "output_type": "execute_result"
    }
   ],
   "source": [
    "f = float(i)\n",
    "type(f)"
   ]
  },
  {
   "cell_type": "code",
   "execution_count": 28,
   "id": "30442fac",
   "metadata": {},
   "outputs": [
    {
     "name": "stdout",
     "output_type": "stream",
     "text": [
      "42.0\n"
     ]
    }
   ],
   "source": [
    "print(f)"
   ]
  },
  {
   "cell_type": "code",
   "execution_count": 29,
   "id": "3203f115",
   "metadata": {},
   "outputs": [
    {
     "name": "stdout",
     "output_type": "stream",
     "text": [
      "5.0\n"
     ]
    }
   ],
   "source": [
    " print(10 / 2)"
   ]
  },
  {
   "cell_type": "code",
   "execution_count": 30,
   "id": "32d3790f",
   "metadata": {},
   "outputs": [
    {
     "name": "stdout",
     "output_type": "stream",
     "text": [
      "4.5\n"
     ]
    }
   ],
   "source": [
    " print(9 / 2)"
   ]
  },
  {
   "cell_type": "code",
   "execution_count": 31,
   "id": "e897c1c0",
   "metadata": {},
   "outputs": [
    {
     "name": "stdout",
     "output_type": "stream",
     "text": [
      "0.99\n"
     ]
    }
   ],
   "source": [
    " print(99 / 100)"
   ]
  },
  {
   "cell_type": "code",
   "execution_count": 32,
   "id": "7ba4df4a",
   "metadata": {},
   "outputs": [
    {
     "name": "stdout",
     "output_type": "stream",
     "text": [
      "5.0\n"
     ]
    }
   ],
   "source": [
    " print(10.0 / 2.0)"
   ]
  },
  {
   "cell_type": "code",
   "execution_count": 33,
   "id": "88a934fa",
   "metadata": {},
   "outputs": [
    {
     "name": "stdout",
     "output_type": "stream",
     "text": [
      "0.99\n"
     ]
    }
   ],
   "source": [
    " print(99.0 / 100.0)"
   ]
  },
  {
   "cell_type": "code",
   "execution_count": 34,
   "id": "5597e700",
   "metadata": {},
   "outputs": [
    {
     "data": {
      "text/plain": [
       "str"
      ]
     },
     "execution_count": 34,
     "metadata": {},
     "output_type": "execute_result"
    }
   ],
   "source": [
    "sval = '123'\n",
    "type(sval)"
   ]
  },
  {
   "cell_type": "code",
   "execution_count": 35,
   "id": "f7e988ea",
   "metadata": {},
   "outputs": [
    {
     "ename": "TypeError",
     "evalue": "can only concatenate str (not \"int\") to str",
     "output_type": "error",
     "traceback": [
      "\u001b[1;31m---------------------------------------------------------------------------\u001b[0m",
      "\u001b[1;31mTypeError\u001b[0m                                 Traceback (most recent call last)",
      "\u001b[1;32m~\\AppData\\Local\\Temp\\ipykernel_14272\\4029315028.py\u001b[0m in \u001b[0;36m<module>\u001b[1;34m\u001b[0m\n\u001b[1;32m----> 1\u001b[1;33m \u001b[0mprint\u001b[0m\u001b[1;33m(\u001b[0m\u001b[0msval\u001b[0m \u001b[1;33m+\u001b[0m \u001b[1;36m1\u001b[0m\u001b[1;33m)\u001b[0m\u001b[1;33m\u001b[0m\u001b[1;33m\u001b[0m\u001b[0m\n\u001b[0m",
      "\u001b[1;31mTypeError\u001b[0m: can only concatenate str (not \"int\") to str"
     ]
    }
   ],
   "source": [
    "print(sval + 1)"
   ]
  },
  {
   "cell_type": "code",
   "execution_count": 36,
   "id": "0f1d3900",
   "metadata": {},
   "outputs": [
    {
     "data": {
      "text/plain": [
       "int"
      ]
     },
     "execution_count": 36,
     "metadata": {},
     "output_type": "execute_result"
    }
   ],
   "source": [
    "ival = int(sval)\n",
    "type(ival)"
   ]
  },
  {
   "cell_type": "code",
   "execution_count": 37,
   "id": "b786a94b",
   "metadata": {},
   "outputs": [
    {
     "name": "stdout",
     "output_type": "stream",
     "text": [
      "124\n"
     ]
    }
   ],
   "source": [
    "print(ival + 1)"
   ]
  },
  {
   "cell_type": "code",
   "execution_count": 38,
   "id": "3f99cccc",
   "metadata": {},
   "outputs": [
    {
     "name": "stdout",
     "output_type": "stream",
     "text": [
      "Who are you?Usama\n",
      "Welcome Usama\n"
     ]
    }
   ],
   "source": [
    "nam = input('Who are you?')\n",
    "print('Welcome', nam)"
   ]
  },
  {
   "cell_type": "code",
   "execution_count": 39,
   "id": "cbb8b186",
   "metadata": {},
   "outputs": [
    {
     "name": "stdout",
     "output_type": "stream",
     "text": [
      "Europe floor?0\n",
      "US floor 1\n"
     ]
    }
   ],
   "source": [
    "inp = input('Europe floor?')\n",
    "usf = int(inp) + 1\n",
    "print('US floor', usf)"
   ]
  },
  {
   "cell_type": "code",
   "execution_count": 40,
   "id": "ef742911",
   "metadata": {},
   "outputs": [
    {
     "ename": "IndentationError",
     "evalue": "expected an indented block (3370335375.py, line 7)",
     "output_type": "error",
     "traceback": [
      "\u001b[1;36m  File \u001b[1;32m\"C:\\Users\\Administrator\\AppData\\Local\\Temp\\ipykernel_14272\\3370335375.py\"\u001b[1;36m, line \u001b[1;32m7\u001b[0m\n\u001b[1;33m    words = line.split()\u001b[0m\n\u001b[1;37m    ^\u001b[0m\n\u001b[1;31mIndentationError\u001b[0m\u001b[1;31m:\u001b[0m expected an indented block\n"
     ]
    }
   ],
   "source": [
    "# Get the name of the file and open it\n",
    "name = input('Enter file:')\n",
    "handle = open(name, 'r')\n",
    "# Count word frequency\n",
    "counts = dict()\n",
    "for line in handle:\n",
    "words = line.split()\n",
    "for word in words:\n",
    "counts[word] = counts.get(word,0) + 1\n",
    "# Find the most common word\n",
    "bigcount = None\n",
    "bigword = None\n",
    "for word,count in counts.items():\n",
    "if bigcount is None or count > bigcount:\n",
    "bigword = word\n",
    "bigcount = count\n",
    "# All done\n",
    "print(bigword, bigcount)"
   ]
  },
  {
   "cell_type": "code",
   "execution_count": null,
   "id": "816f7d7f",
   "metadata": {},
   "outputs": [],
   "source": []
  }
 ],
 "metadata": {
  "kernelspec": {
   "display_name": "Python 3 (ipykernel)",
   "language": "python",
   "name": "python3"
  },
  "language_info": {
   "codemirror_mode": {
    "name": "ipython",
    "version": 3
   },
   "file_extension": ".py",
   "mimetype": "text/x-python",
   "name": "python",
   "nbconvert_exporter": "python",
   "pygments_lexer": "ipython3",
   "version": "3.9.13"
  }
 },
 "nbformat": 4,
 "nbformat_minor": 5
}
